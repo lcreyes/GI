{
 "cells": [
  {
   "cell_type": "markdown",
   "metadata": {},
   "source": [
    "##Code to generate and save Gaussian test data for PULearning validation"
   ]
  },
  {
   "cell_type": "code",
   "execution_count": 1,
   "metadata": {
    "collapsed": false
   },
   "outputs": [],
   "source": [
    "import pandas as pd\n",
    "import numpy as np\n",
    "import math\n",
    "import random\n",
    "import matplotlib.pyplot as plt\n",
    "\n",
    "%matplotlib inline"
   ]
  },
  {
   "cell_type": "code",
   "execution_count": 15,
   "metadata": {
    "collapsed": true
   },
   "outputs": [],
   "source": [
    "# define constants\n",
    "\n",
    "num_positive = 1000 #positive data\n",
    "num_negative = 1000 # negative data\n",
    "fractionOfPositives_labeled = 1.0 \n",
    "fractionOfNegatives_labeled = 1.0 \n",
    "\n",
    "#define Gaussians mean and covariance matrices\n",
    "\n",
    "Gaussian1_mean = [0,0]\n",
    "Gaussian2_mean = [5,5]\n",
    "\n",
    "Gaussian1_cov = [[1, 0.5], [0.5, 1]]\n",
    "Gaussian2_cov = [[1, -0.5], [-0.5, 1]]\n",
    "\n",
    "#random generated data\n",
    "\n",
    "positive_data = np.random.multivariate_normal(Gaussian1_mean,Gaussian1_cov,num_positive)\n",
    "negative_data = np.random.multivariate_normal(Gaussian2_mean,Gaussian2_cov,num_negative)\n",
    "\n",
    "positive_data_quadraticTerms = np.square(positive_data)\n",
    "negative_data_quadraticTerms = np.square(negative_data)\n",
    "\n",
    "positiveData_features = np.column_stack((positive_data, positive_data_quadraticTerms))\n",
    "negativeData_features = np.column_stack((negative_data, negative_data_quadraticTerms))"
   ]
  },
  {
   "cell_type": "code",
   "execution_count": 16,
   "metadata": {
    "collapsed": false
   },
   "outputs": [],
   "source": [
    "features = np.vstack((positiveData_features,negativeData_features))\n",
    "num_positive_labels = math.trunc(num_positive*fractionOfPositives_labeled)\n",
    "num_negative_labels = math.trunc(num_negative*fractionOfNegatives_labeled)\n",
    "label = [1]*num_positive_labels + [0]*(num_positive-num_positive_labels)+ [0]*(num_negative-num_negative_labels) + [0]*num_negative_labels"
   ]
  },
  {
   "cell_type": "code",
   "execution_count": 17,
   "metadata": {
    "collapsed": false
   },
   "outputs": [],
   "source": [
    "data = np.column_stack((label, features))\n",
    "np.random.shuffle(data)"
   ]
  },
  {
   "cell_type": "code",
   "execution_count": 18,
   "metadata": {
    "collapsed": false
   },
   "outputs": [],
   "source": [
    "df = pd.DataFrame(data, columns=['label','x','y', 'x**2', 'y**2'])"
   ]
  },
  {
   "cell_type": "code",
   "execution_count": 19,
   "metadata": {
    "collapsed": false
   },
   "outputs": [
    {
     "data": {
      "text/html": [
       "<div>\n",
       "<table border=\"1\" class=\"dataframe\">\n",
       "  <thead>\n",
       "    <tr style=\"text-align: right;\">\n",
       "      <th></th>\n",
       "      <th>label</th>\n",
       "      <th>x</th>\n",
       "      <th>y</th>\n",
       "      <th>x**2</th>\n",
       "      <th>y**2</th>\n",
       "    </tr>\n",
       "  </thead>\n",
       "  <tbody>\n",
       "    <tr>\n",
       "      <th>0</th>\n",
       "      <td>0</td>\n",
       "      <td>4.174490</td>\n",
       "      <td>5.649982</td>\n",
       "      <td>17.426368</td>\n",
       "      <td>31.922296</td>\n",
       "    </tr>\n",
       "    <tr>\n",
       "      <th>1</th>\n",
       "      <td>0</td>\n",
       "      <td>4.500773</td>\n",
       "      <td>4.165256</td>\n",
       "      <td>20.256955</td>\n",
       "      <td>17.349356</td>\n",
       "    </tr>\n",
       "    <tr>\n",
       "      <th>2</th>\n",
       "      <td>0</td>\n",
       "      <td>4.492791</td>\n",
       "      <td>4.021679</td>\n",
       "      <td>20.185168</td>\n",
       "      <td>16.173904</td>\n",
       "    </tr>\n",
       "    <tr>\n",
       "      <th>3</th>\n",
       "      <td>0</td>\n",
       "      <td>5.061559</td>\n",
       "      <td>5.155314</td>\n",
       "      <td>25.619375</td>\n",
       "      <td>26.577267</td>\n",
       "    </tr>\n",
       "    <tr>\n",
       "      <th>4</th>\n",
       "      <td>0</td>\n",
       "      <td>5.437658</td>\n",
       "      <td>5.017281</td>\n",
       "      <td>29.568125</td>\n",
       "      <td>25.173106</td>\n",
       "    </tr>\n",
       "    <tr>\n",
       "      <th>5</th>\n",
       "      <td>0</td>\n",
       "      <td>5.470247</td>\n",
       "      <td>4.946794</td>\n",
       "      <td>29.923603</td>\n",
       "      <td>24.470771</td>\n",
       "    </tr>\n",
       "    <tr>\n",
       "      <th>6</th>\n",
       "      <td>0</td>\n",
       "      <td>3.981282</td>\n",
       "      <td>5.062547</td>\n",
       "      <td>15.850605</td>\n",
       "      <td>25.629382</td>\n",
       "    </tr>\n",
       "    <tr>\n",
       "      <th>7</th>\n",
       "      <td>1</td>\n",
       "      <td>-1.680475</td>\n",
       "      <td>-2.665057</td>\n",
       "      <td>2.823996</td>\n",
       "      <td>7.102529</td>\n",
       "    </tr>\n",
       "    <tr>\n",
       "      <th>8</th>\n",
       "      <td>1</td>\n",
       "      <td>0.465427</td>\n",
       "      <td>-0.279112</td>\n",
       "      <td>0.216623</td>\n",
       "      <td>0.077904</td>\n",
       "    </tr>\n",
       "    <tr>\n",
       "      <th>9</th>\n",
       "      <td>1</td>\n",
       "      <td>0.433054</td>\n",
       "      <td>-0.934869</td>\n",
       "      <td>0.187536</td>\n",
       "      <td>0.873981</td>\n",
       "    </tr>\n",
       "  </tbody>\n",
       "</table>\n",
       "</div>"
      ],
      "text/plain": [
       "   label         x         y       x**2       y**2\n",
       "0      0  4.174490  5.649982  17.426368  31.922296\n",
       "1      0  4.500773  4.165256  20.256955  17.349356\n",
       "2      0  4.492791  4.021679  20.185168  16.173904\n",
       "3      0  5.061559  5.155314  25.619375  26.577267\n",
       "4      0  5.437658  5.017281  29.568125  25.173106\n",
       "5      0  5.470247  4.946794  29.923603  24.470771\n",
       "6      0  3.981282  5.062547  15.850605  25.629382\n",
       "7      1 -1.680475 -2.665057   2.823996   7.102529\n",
       "8      1  0.465427 -0.279112   0.216623   0.077904\n",
       "9      1  0.433054 -0.934869   0.187536   0.873981"
      ]
     },
     "execution_count": 19,
     "metadata": {},
     "output_type": "execute_result"
    }
   ],
   "source": [
    "df.head(10)"
   ]
  },
  {
   "cell_type": "code",
   "execution_count": 20,
   "metadata": {
    "collapsed": true
   },
   "outputs": [],
   "source": [
    "df.to_csv(\"../data/test2_Gaussians_formatted.csv\")"
   ]
  },
  {
   "cell_type": "code",
   "execution_count": 21,
   "metadata": {
    "collapsed": false
   },
   "outputs": [
    {
     "data": {
      "image/png": "[encoded data removed]",
      "text/plain": [
       "<matplotlib.figure.Figure at 0x107ae1910>"
      ]
     },
     "metadata": {},
     "output_type": "display_data"
    }
   ],
   "source": [
    "plt.figure()\n",
    "plt.scatter(features[:, 0], features[:, 1], s=30, c=label)\n",
    "plt.show()"
   ]
  },
  {
   "cell_type": "code",
   "execution_count": null,
   "metadata": {
    "collapsed": true
   },
   "outputs": [],
   "source": []
  }
 ],
 "metadata": {
  "kernelspec": {
   "display_name": "Python 2",
   "language": "python",
   "name": "python2"
  },
  "language_info": {
   "codemirror_mode": {
    "name": "ipython",
    "version": 2
   },
   "file_extension": ".py",
   "mimetype": "text/x-python",
   "name": "python",
   "nbconvert_exporter": "python",
   "pygments_lexer": "ipython2",
   "version": "2.7.10"
  }
 },
 "nbformat": 4,
 "nbformat_minor": 0
}
