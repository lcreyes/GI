{
 "cells": [
  {
   "cell_type": "code",
   "execution_count": null,
   "metadata": {
    "collapsed": false
   },
   "outputs": [],
   "source": [
    "import os.path\n",
    "import sys\n",
    "import logging\n",
    "\n",
    "import numpy as np\n",
    "import matplotlib.pyplot as plt\n",
    "import pandas as pd\n",
    "import seaborn\n",
    "import sklearn.svm\n",
    "import sklearn.linear_model\n",
    "import sklearn.ensemble\n",
    "\n",
    "sys.path.append(\"../../\")  # trick to import clairvoya from internal notebook directory\n",
    "import clairvoya.runbench\n",
    "import clairvoya.pulearning\n",
    "import clairvoya.voya_plotter\n",
    "import clairvoya.datasetup\n",
    "import cPickle as pickle\n",
    "\n",
    "%matplotlib inline\n",
    "\n",
    "voya_logger = logging.getLogger('voya_notebook')\n",
    "voya_logger.setLevel(logging.INFO)\n",
    "fh = logging.FileHandler('voya_notebook.log')\n",
    "fh.setLevel(logging.DEBUG)\n",
    "voya_logger.addHandler(fh)\n",
    "logging.getLogger('clairvoya').addHandler(fh)"
   ]
  },
  {
   "cell_type": "markdown",
   "metadata": {},
   "source": [
    "# Run Conditions"
   ]
  },
  {
   "cell_type": "code",
   "execution_count": null,
   "metadata": {
    "collapsed": false
   },
   "outputs": [],
   "source": [
    "train_num_pos = 100\n",
    "train_num_unlab = 1000\n",
    "\n",
    "test_num_all = 3000\n",
    "test_num_pos_frac = 0.5\n",
    "\n",
    "num_runs_per = 25\n",
    "\n",
    "pos_to_unlab_range = (0.1, 0.5, 1, 3, 10)"
   ]
  },
  {
   "cell_type": "code",
   "execution_count": null,
   "metadata": {
    "collapsed": false
   },
   "outputs": [],
   "source": [
    "df = pd.read_csv('../data/test1_uni_f.csv')\n",
    "df.head()"
   ]
  },
  {
   "cell_type": "code",
   "execution_count": null,
   "metadata": {
    "collapsed": false,
    "scrolled": true
   },
   "outputs": [],
   "source": [
    "df.describe()"
   ]
  },
  {
   "cell_type": "code",
   "execution_count": null,
   "metadata": {
    "collapsed": false
   },
   "outputs": [],
   "source": [
    "num_labels = pd.value_counts(df[['label']].values.ravel())  # numbers in each group\n",
    "print num_labels\n",
    "num_pos = num_labels[1]\n",
    "num_neg = num_labels[-1]\n",
    "num_unl = num_labels[0]"
   ]
  },
  {
   "cell_type": "code",
   "execution_count": null,
   "metadata": {
    "collapsed": false
   },
   "outputs": [],
   "source": [
    "df_pos_neg = df[df['label'] != 0]\n",
    "df_unlab = df[df['label'] == 0]"
   ]
  },
  {
   "cell_type": "code",
   "execution_count": null,
   "metadata": {
    "collapsed": false
   },
   "outputs": [],
   "source": [
    "def generate_mixed_df(pos_to_unl_frac):\n",
    "    df_unlab.reindex(np.random.permutation(df_unlab.index))\n",
    "    num_required_unlab = int(num_pos * pos_to_unl_frac)\n",
    "    mixed_df = df_pos_neg.append(df_unlab[:num_required_unlab], ignore_index=True)\n",
    "    return mixed_df"
   ]
  },
  {
   "cell_type": "code",
   "execution_count": null,
   "metadata": {
    "collapsed": false
   },
   "outputs": [],
   "source": [
    "mixed_df = generate_mixed_df(2)"
   ]
  },
  {
   "cell_type": "markdown",
   "metadata": {},
   "source": [
    "# Configuring the benchmark"
   ]
  },
  {
   "cell_type": "code",
   "execution_count": null,
   "metadata": {
    "collapsed": false
   },
   "outputs": [],
   "source": [
    "clfs=('Logistic Regression', 'Gradient Boosting', 'LR_PosOnly(E&N2008)', 'Random Forrest', 'SVM_DoubleWeight(E&N2008)')\n",
    "auc_results = {clf_name:[] for clf_name in clfs}\n",
    "for g_num, pos_to_unlab in enumerate(pos_to_unlab_range):\n",
    "    voya_logger.info('Running classifiers for gamma={} ({}/{})'.format(pos_to_unlab, g_num, len(pos_to_unlab_range)))\n",
    "    run_results = {clf_name:[] for clf_name in clfs}\n",
    "    for i in xrange(num_runs_per):\n",
    "        \n",
    "        mixed_df = generate_mixed_df(pos_to_unlab)\n",
    "\n",
    "        config = {\n",
    "            \"data_file\": mixed_df,\n",
    "            \"out_path\": None,\n",
    "            \"num_cores\": 3,\n",
    "            \"verbosity\": 0,\n",
    "            \"pu_learning\": True,\n",
    "        }\n",
    "\n",
    "        LR_estimator = sklearn.linear_model.LogisticRegression(C=0.4, penalty='l1')\n",
    "        svc_estimator = sklearn.svm.SVC(C=2.5, kernel='linear', class_weight='auto', probability=True)\n",
    "\n",
    "        classifiers = {\n",
    "    #         'Bagging LR': sklearn.ensemble.BaggingClassifier(LR_estimator, n_estimators=200, max_samples=0.3)\n",
    "            'Logistic Regression': sklearn.linear_model.LogisticRegression(),\n",
    "            'Gradient Boosting': sklearn.ensemble.GradientBoostingClassifier(n_estimators=100,\n",
    "                                                                             learning_rate=0.1, max_depth=2),\n",
    "            'LR_PosOnly(E&N2008)': clairvoya.pulearning.PosOnly(LR_estimator, hold_out_ratio=0.2),\n",
    "            'SVM_DoubleWeight(E&N2008)': clairvoya.pulearning.PULearnByDoubleWeighting(svc_estimator), \n",
    "            'Random Forrest': sklearn.ensemble.RandomForestClassifier(n_jobs=config[\"num_cores\"]),\n",
    "        }\n",
    "\n",
    "        classifiers_gridparameters = {clf_name: None for clf_name in clfs}\n",
    "\n",
    "        results_dict = clairvoya.runbench.run_benchmark(config, classifiers, classifiers_gridparameters)\n",
    "        for clf_name in clfs:\n",
    "            run_results[clf_name].append(results_dict[clf_name]['auc_score'])\n",
    "    for clf_name in clfs:\n",
    "        auc_results[clf_name].append(run_results[clf_name])"
   ]
  },
  {
   "cell_type": "code",
   "execution_count": null,
   "metadata": {
    "collapsed": false
   },
   "outputs": [],
   "source": [
    "colors = seaborn.color_palette(\"Set2\", 10)\n",
    "\n",
    "plt.figure(figsize=(10,10))\n",
    "for i, clf_name in enumerate(clfs):\n",
    "    auc_scores = np.array(auc_results[clf_name])\n",
    "    std_error = auc_scores.std(axis=1) / np.sqrt(num_runs_per)\n",
    "    plt.errorbar(gamma_range, auc_scores.mean(axis=1), yerr=std_error, label=clf_name,\n",
    "                 c=colors[i], capthick=0)\n",
    "    plt.scatter(gamma_range, auc_scores.mean(axis=1), c=colors[i], lw=0)\n",
    "    \n",
    "    plt.ylabel('AUC Score')\n",
    "    plt.xlabel('Frac Unlabelled Positives')\n",
    "    plt.legend()\n",
    "    \n",
    "    title = \"Train P {}, U {}, Test {}, Testfrac {}\".format(\n",
    "        train_num_pos, train_num_unlab, test_num_all, test_num_pos_frac)\n",
    "    plt.title(title)\n",
    "    plt.savefig('plots/{}.png'.format(title))"
   ]
  },
  {
   "cell_type": "code",
   "execution_count": null,
   "metadata": {
    "collapsed": false
   },
   "outputs": [],
   "source": [
    "# Easy results save for now\n",
    "with open(os.path.join('result_data', 'test 1 ' + title + '.pickle'), 'wb') as f:\n",
    "    pickle.dump(auc_results, f)"
   ]
  },
  {
   "cell_type": "code",
   "execution_count": null,
   "metadata": {
    "collapsed": false
   },
   "outputs": [],
   "source": []
  },
  {
   "cell_type": "code",
   "execution_count": null,
   "metadata": {
    "collapsed": true
   },
   "outputs": [],
   "source": []
  }
 ],
 "metadata": {
  "kernelspec": {
   "display_name": "Python 2",
   "language": "python",
   "name": "python2"
  }
 },
 "nbformat": 4,
 "nbformat_minor": 0
}
